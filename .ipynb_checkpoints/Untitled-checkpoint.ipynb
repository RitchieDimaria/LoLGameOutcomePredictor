{
 "cells": [
  {
   "cell_type": "code",
   "execution_count": 11,
   "id": "859e0d8b",
   "metadata": {},
   "outputs": [
    {
     "name": "stdout",
     "output_type": "stream",
     "text": [
      "0.7222672064777328\n"
     ]
    }
   ],
   "source": [
    "\n",
    "import pandas as pd\n",
    "import numpy as np\n",
    "from sklearn.linear_model import LogisticRegressionCV\n",
    "from sklearn.model_selection import train_test_split\n",
    "from sklearn.metrics import accuracy_score\n",
    "\n",
    "# API key for calling riot api for data from first paper (unfinished)\n",
    "riot_api_key = 'RGAPI-9b195914-b438-4592-b61a-85c71438d41f'\n",
    "\n",
    "# Dataset for second paper\n",
    "df = pd.read_csv('./high_diamond_ranked_10min.csv')\n",
    "\n",
    "game_ids = df.drop('gameId', axis=1, inplace=True)\n",
    "\n",
    "y = df['blueWins']\n",
    "X = df.drop('blueWins', axis=1)\n",
    "\n",
    "# Train test split\n",
    "X_train, X_test, Y_train, Y_test = train_test_split(X, y, random_state=42)\n",
    "\n",
    "model = LogisticRegressionCV(random_state=42)\n",
    "\n",
    "model.fit(X_train, Y_train)\n",
    "\n",
    "Y_predict = model.predict(X_test)\n",
    "\n",
    "# Calculate accuracy\n",
    "accuracy = accuracy_score(Y_test, Y_predict)\n",
    "\n",
    "print(accuracy)"
   ]
  },
  {
   "cell_type": "code",
   "execution_count": null,
   "id": "5224709a",
   "metadata": {},
   "outputs": [],
   "source": []
  }
 ],
 "metadata": {
  "kernelspec": {
   "display_name": "Python 3 (ipykernel)",
   "language": "python",
   "name": "python3"
  },
  "language_info": {
   "codemirror_mode": {
    "name": "ipython",
    "version": 3
   },
   "file_extension": ".py",
   "mimetype": "text/x-python",
   "name": "python",
   "nbconvert_exporter": "python",
   "pygments_lexer": "ipython3",
   "version": "3.11.4"
  }
 },
 "nbformat": 4,
 "nbformat_minor": 5
}
